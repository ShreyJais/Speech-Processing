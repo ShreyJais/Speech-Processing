{
  "cells": [
    {
      "cell_type": "markdown",
      "metadata": {
        "id": "view-in-github",
        "colab_type": "text"
      },
      "source": [
        "<a href=\"https://colab.research.google.com/github/ShreyJais/Speech-Processing/blob/main/2348558_SPR_lab8.ipynb\" target=\"_parent\"><img src=\"https://colab.research.google.com/assets/colab-badge.svg\" alt=\"Open In Colab\"/></a>"
      ]
    },
    {
      "cell_type": "markdown",
      "metadata": {
        "id": "4MeDRgrsDfx1"
      },
      "source": [
        "Viterbi Dynamic Programming Algorithm to Find the Most Likely Sequence of Hidden States\n",
        "\n"
      ]
    },
    {
      "cell_type": "code",
      "execution_count": null,
      "metadata": {
        "id": "fRBgGr93Dfx5"
      },
      "outputs": [],
      "source": [
        "import numpy as np\n",
        "import matplotlib.pyplot as plt"
      ]
    },
    {
      "cell_type": "markdown",
      "metadata": {
        "id": "QG3OiC5NDfx6"
      },
      "source": [
        "The Viterbi algorithm is a dynamic programming algorithm used to find the most probable sequence of hidden states given an observation sequence. In this case, the hidden states represent the phonemes (/h/, /e/, /l/, /o/) and the observations represent the acoustic feature vectors."
      ]
    },
    {
      "cell_type": "code",
      "execution_count": null,
      "metadata": {
        "id": "8_JEad-WDfx6"
      },
      "outputs": [],
      "source": [
        "states = ['h', 'e', 'l', 'o']\n",
        "observations = ['O1', 'O2', 'O3', 'O4']\n",
        "\n",
        "A = np.array([ #Transition Probability Matrix (A)\n",
        "    [0.0, 0.7, 0.3, 0.0],\n",
        "    [0.0, 0.2, 0.6, 0.2],\n",
        "    [0.0, 0.0, 0.3, 0.7],\n",
        "    [0.0, 0.0, 0.1, 0.9]\n",
        "])\n",
        "\n",
        "B = np.array([ #Emission Probability Matrix (B)\n",
        "    [0.6, 0.2, 0.1, 0.1],\n",
        "    [0.1, 0.7, 0.1, 0.1],\n",
        "    [0.1, 0.1, 0.6, 0.2],\n",
        "    [0.2, 0.1, 0.2, 0.5]\n",
        "])\n",
        "\n",
        "pi = np.array([1.0, 0.0, 0.0, 0.0]) # nitial probabilities (π)\n",
        "\n",
        "observation_sequence = ['O1', 'O2', 'O3', 'O4']\n",
        "observation_index = {'O1': 0, 'O2': 1, 'O3': 2, 'O4': 3}"
      ]
    },
    {
      "cell_type": "markdown",
      "metadata": {
        "id": "_JcSCk8TDfx6"
      },
      "source": [
        "- States: We have 4 phonemes: /h/, /e/, /l/, /o/.\n",
        "- Observations: The observations are feature vectors: O1, O2, O3, O4.\n",
        "- Transition Matrix (A): Represents the probabilities of moving from one state to another.\n",
        "- Emission Matrix (B): Represents the probabilities of emitting an observation given a state.\n",
        "- Initial Probabilities (π): Represents the probability of starting at each phoneme (only /h/ starts with probability 1)."
      ]
    },
    {
      "cell_type": "code",
      "execution_count": null,
      "metadata": {
        "id": "tDsChBE2Dfx7"
      },
      "outputs": [],
      "source": [
        "def viterbi_algorithm():\n",
        "    n_states = len(states)\n",
        "    n_observations = len(observations)\n",
        "    viterbi_matrix = np.zeros((n_observations, n_states))\n",
        "    backpointer_matrix = np.zeros((n_observations, n_states), dtype=int)\n",
        "    for s in range(n_states):\n",
        "        viterbi_matrix[0][s] = pi[s] * B[s][observation_index[observation_sequence[0]]]\n",
        "    for t in range(1, n_observations):\n",
        "        for s in range(n_states):\n",
        "            max_prob = -1\n",
        "            max_state = -1\n",
        "            for prev_s in range(n_states):\n",
        "                prob = viterbi_matrix[t-1][prev_s] * A[prev_s][s] * B[s][observation_index[observation_sequence[t]]]\n",
        "                if prob > max_prob:\n",
        "                    max_prob = prob\n",
        "                    max_state = prev_s\n",
        "            viterbi_matrix[t][s] = max_prob\n",
        "            backpointer_matrix[t][s] = max_state\n",
        "    best_path = np.zeros(n_observations, dtype=int)\n",
        "    best_path[-1] = np.argmax(viterbi_matrix[-1])\n",
        "    for t in range(n_observations - 2, -1, -1):\n",
        "        best_path[t] = backpointer_matrix[t + 1][best_path[t + 1]]\n",
        "    best_path_phonemes = [states[state] for state in best_path]\n",
        "    best_sequence_probability = viterbi_matrix[-1][best_path[-1]]\n",
        "\n",
        "    return best_path_phonemes, best_sequence_probability"
      ]
    },
    {
      "cell_type": "markdown",
      "metadata": {
        "id": "lNfacfN5Dfx7"
      },
      "source": [
        "- **Initialization**: We initialize the viterbi_matrix for the first observation, using the initial probabilities and emission probabilities.\n",
        "- **Recursion**: For each subsequent observation, we calculate the most probable state path by looking at the previous state, the transition probability, and the emission probability.\n",
        "- **Backtracking**: After filling out the viterbi_matrix, we backtrack to find the most probable sequence of states.\n",
        "- **Probability**: The probability of the most likely sequence is the value at the last observation for the most likely state."
      ]
    },
    {
      "cell_type": "code",
      "execution_count": null,
      "metadata": {
        "id": "qCcV-hQgDfx8",
        "outputId": "415e1ef9-540d-4d49-b72a-1681d1fccc18"
      },
      "outputs": [
        {
          "name": "stdout",
          "output_type": "stream",
          "text": [
            "Most Likely Phoneme Sequence: ['h', 'e', 'l', 'o']\n",
            "Probability of the Most Likely Sequence: 0.03704399999999999\n"
          ]
        }
      ],
      "source": [
        "best_sequence, best_probability = viterbi_algorithm()\n",
        "\n",
        "print(\"Most Likely Phoneme Sequence:\", best_sequence)\n",
        "print(\"Probability of the Most Likely Sequence:\", best_probability)"
      ]
    },
    {
      "cell_type": "markdown",
      "metadata": {
        "id": "5gQeQqxODfx8"
      },
      "source": [
        "### Inference\n",
        "\n",
        "\n",
        "The Viterbi algorithm confirms that the sequence /h/ → /e/ → /l/ → /o/ is the most probable hidden phoneme sequence corresponding to the observed acoustic feature vectors [O1, O2, O3, O4].\n",
        "\n",
        "The computed probability of this sequence (0.03704) reflects the joint likelihood of:\n",
        "\n",
        "- Starting at /h/,\n",
        "- Transitioning between states based on the transition probabilities,\n",
        "- Emitting the corresponding observations based on emission probabilities."
      ]
    }
  ],
  "metadata": {
    "kernelspec": {
      "display_name": ".venv",
      "language": "python",
      "name": "python3"
    },
    "language_info": {
      "codemirror_mode": {
        "name": "ipython",
        "version": 3
      },
      "file_extension": ".py",
      "mimetype": "text/x-python",
      "name": "python",
      "nbconvert_exporter": "python",
      "pygments_lexer": "ipython3",
      "version": "3.11.7"
    },
    "colab": {
      "provenance": [],
      "include_colab_link": true
    }
  },
  "nbformat": 4,
  "nbformat_minor": 0
}