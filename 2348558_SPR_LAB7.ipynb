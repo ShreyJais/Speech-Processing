{
  "cells": [
    {
      "cell_type": "markdown",
      "metadata": {
        "id": "view-in-github",
        "colab_type": "text"
      },
      "source": [
        "<a href=\"https://colab.research.google.com/github/ShreyJais/Speech-Processing/blob/main/2348558_SPR_LAB7.ipynb\" target=\"_parent\"><img src=\"https://colab.research.google.com/assets/colab-badge.svg\" alt=\"Open In Colab\"/></a>"
      ]
    },
    {
      "cell_type": "markdown",
      "id": "d019405f-285f-4441-b96c-7aee7fd90045",
      "metadata": {
        "id": "d019405f-285f-4441-b96c-7aee7fd90045"
      },
      "source": [
        "Hidden Markov Model Implementation"
      ]
    },
    {
      "cell_type": "markdown",
      "id": "20c31f3b-4afc-42e2-b8a7-cfa2c19e2177",
      "metadata": {
        "id": "20c31f3b-4afc-42e2-b8a7-cfa2c19e2177"
      },
      "source": [
        "### a) Represent the HMM parameters (initial probabilities, transition probabilities, and emission probabilities) using suitable data structures in Python.\n",
        "### b) Write a function to neatly display the transition and emission matrices along with the initial probabilities."
      ]
    },
    {
      "cell_type": "code",
      "execution_count": null,
      "id": "c91c5d18-3b2a-4691-aec8-2d326e23e10d",
      "metadata": {
        "id": "c91c5d18-3b2a-4691-aec8-2d326e23e10d",
        "outputId": "f864fbe7-a63c-45f3-b0f1-ad49a6a56166"
      },
      "outputs": [
        {
          "name": "stdout",
          "output_type": "stream",
          "text": [
            "Initial Probabilities:\n",
            "       Probability\n",
            "/s/            1.0\n",
            "/p/            0.0\n",
            "/ie:/          0.0\n",
            "/tS/           0.0\n",
            "\n",
            "Transition Probabilities:\n",
            "       /s/  /p/  /ie:/  /tS/\n",
            "/s/    0.1  0.8    0.1   0.0\n",
            "/p/    0.0  0.1    0.8   0.1\n",
            "/ie:/  0.0  0.0    0.2   0.8\n",
            "/tS/   0.2  0.0    0.0   0.8\n",
            "\n",
            "Emission Probabilities:\n",
            "       Energy  Pitch  Duration\n",
            "/s/       0.7    0.2       0.1\n",
            "/p/       0.5    0.3       0.2\n",
            "/ie:/     0.3    0.5       0.2\n",
            "/tS/      0.4    0.4       0.2\n"
          ]
        }
      ],
      "source": [
        "import numpy as np\n",
        "import pandas as pd\n",
        "initial_probabilities = {'/s/': 1.0, '/p/': 0.0, '/ie:/': 0.0, '/tS/': 0.0}\n",
        "\n",
        "transition_probabilities = {\n",
        "    '/s/': {'/s/': 0.1, '/p/': 0.8, '/ie:/': 0.1, '/tS/': 0.0},\n",
        "    '/p/': {'/s/': 0.0, '/p/': 0.1, '/ie:/': 0.8, '/tS/': 0.1},\n",
        "    '/ie:/': {'/s/': 0.0, '/p/': 0.0, '/ie:/': 0.2, '/tS/': 0.8},\n",
        "    '/tS/': {'/s/': 0.2, '/p/': 0.0, '/ie:/': 0.0, '/tS/': 0.8}\n",
        "}\n",
        "\n",
        "emission_probabilities = {\n",
        "    '/s/': {'Energy': 0.7, 'Pitch': 0.2, 'Duration': 0.1},\n",
        "    '/p/': {'Energy': 0.5, 'Pitch': 0.3, 'Duration': 0.2},\n",
        "    '/ie:/': {'Energy': 0.3, 'Pitch': 0.5, 'Duration': 0.2},\n",
        "    '/tS/': {'Energy': 0.4, 'Pitch': 0.4, 'Duration': 0.2}\n",
        "}\n",
        "print(\"Initial Probabilities:\")\n",
        "initial_df = pd.DataFrame.from_dict(initial_probabilities, orient='index', columns=['Probability'])\n",
        "print(initial_df)\n",
        "\n",
        "print(\"\\nTransition Probabilities:\")\n",
        "transition_df = pd.DataFrame.from_dict(transition_probabilities, orient='index')\n",
        "print(transition_df)\n",
        "\n",
        "print(\"\\nEmission Probabilities:\")\n",
        "emission_df = pd.DataFrame.from_dict(emission_probabilities, orient='index')\n",
        "print(emission_df)"
      ]
    },
    {
      "cell_type": "markdown",
      "id": "6bb119d4-cc31-4334-a895-e69c6f603b15",
      "metadata": {
        "id": "6bb119d4-cc31-4334-a895-e69c6f603b15"
      },
      "source": [
        "### (c) Write a program to generate a single sequence of phonemes and corresponding acoustic observations for the word speech based on the defined probabilities."
      ]
    },
    {
      "cell_type": "code",
      "execution_count": null,
      "id": "e083bd13-72c6-432e-b84a-a26649dfee32",
      "metadata": {
        "id": "e083bd13-72c6-432e-b84a-a26649dfee32",
        "outputId": "4b1c85da-c7c2-4072-bdbd-7df80b69171c"
      },
      "outputs": [
        {
          "name": "stdout",
          "output_type": "stream",
          "text": [
            "\n",
            "Generated Phoneme Sequence: ['/s/', '/p/', '/tS/', '/tS/']\n",
            "Generated Observation Sequence: ['Pitch', 'Energy', 'Duration', 'Energy']\n"
          ]
        }
      ],
      "source": [
        "phoneme_sequence = []\n",
        "observation_sequence = []\n",
        "\n",
        "current_phoneme = '/s/'\n",
        "phoneme_sequence.append(current_phoneme)\n",
        "\n",
        "for _ in range(3):\n",
        "    transitions = list(transition_probabilities[current_phoneme].items())\n",
        "    next_states, probabilities = zip(*transitions)\n",
        "    current_phoneme = np.random.choice(next_states, p=probabilities)\n",
        "    phoneme_sequence.append(current_phoneme)\n",
        "\n",
        "for phoneme in phoneme_sequence:\n",
        "    emissions = list(emission_probabilities[phoneme].items())\n",
        "    observations, probabilities = zip(*emissions)\n",
        "    observation = np.random.choice(observations, p=probabilities)\n",
        "    observation_sequence.append(observation)\n",
        "\n",
        "print(\"\\nGenerated Phoneme Sequence:\", phoneme_sequence)\n",
        "print(\"Generated Observation Sequence:\", observation_sequence)"
      ]
    },
    {
      "cell_type": "markdown",
      "id": "45da9c50-dcb7-4fed-a79b-4c74d95d7aa6",
      "metadata": {
        "id": "45da9c50-dcb7-4fed-a79b-4c74d95d7aa6"
      },
      "source": [
        "### d) Write an inference for the above HMM implementation"
      ]
    },
    {
      "cell_type": "markdown",
      "id": "6e6a6df4-e534-4352-9a35-994e0999ad2c",
      "metadata": {
        "id": "6e6a6df4-e534-4352-9a35-994e0999ad2c"
      },
      "source": [
        "##### -> Representation of HMM Parameters: The initial probabilities, transition probabilities, and emission probabilities are structured as dictionaries for easy mapping between phonemes and their respective probabilities.\n",
        "##### -> Sequence Generation: Starting with the initial phoneme /s/, transitions to subsequent phonemes are guided by the transition probability matrix. At each step, the next phoneme is chosen probabilistically based on the transition probabilities of the current phoneme. The corresponding acoustic observations (e.g., energy, pitch, duration) are generated probabilistically based on the emission probabilities.\n",
        "##### ->Generated Sequences: The generated phoneme sequence follows the transition probabilities closely, simulating the structure of the word \"speech.\" The observation sequence provides measurable acoustic features tied to the phonemes.\n",
        "##### -> Expected Output: A sample phoneme sequence could look like: ['/s/', '/p/', '/ie:/', '/tS/']. Corresponding observation sequence might include random values such as ['Energy', 'Pitch', 'Duration', 'Energy'], reflecting the probabilistic nature of the emission process.\n",
        "#### Insights:\n",
        "##### -> The implementation showcases the power of HMM in modeling sequences with hidden states and observations, which is a fundamental concept in speech processing.\n",
        "##### -> By tuning the transition and emission probabilities, the model can simulate different phoneme transitions and acoustic patterns, making it adaptable for various linguistic tasks."
      ]
    }
  ],
  "metadata": {
    "kernelspec": {
      "display_name": "Python 3 (ipykernel)",
      "language": "python",
      "name": "python3"
    },
    "language_info": {
      "codemirror_mode": {
        "name": "ipython",
        "version": 3
      },
      "file_extension": ".py",
      "mimetype": "text/x-python",
      "name": "python",
      "nbconvert_exporter": "python",
      "pygments_lexer": "ipython3",
      "version": "3.11.7"
    },
    "colab": {
      "provenance": [],
      "name": "2348558_SPR_LAB7.ipynb",
      "include_colab_link": true
    }
  },
  "nbformat": 4,
  "nbformat_minor": 5
}